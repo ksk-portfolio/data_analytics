{
 "cells": [
  {
   "cell_type": "markdown",
   "metadata": {},
   "source": [
    "## 概要\n",
    "### 目的：売り上げの集計\n",
    "### 集計軸：販売数・カテゴリ・地域別"
   ]
  },
  {
   "cell_type": "markdown",
   "metadata": {},
   "source": [
    "## 1.ライブラリの読み込み"
   ]
  },
  {
   "cell_type": "code",
   "execution_count": 7,
   "metadata": {},
   "outputs": [
    {
     "data": {
      "text/plain": [
       "sys.version_info(major=3, minor=6, micro=8, releaselevel='final', serial=0)"
      ]
     },
     "execution_count": 7,
     "metadata": {},
     "output_type": "execute_result"
    }
   ],
   "source": [
    "import numpy as np\n",
    "import pandas as pd\n",
    "pd.set_option('display.max_rows', 500)\n",
    "pd.set_option('display.max_columns', 100)\n",
    "sys.version_info"
   ]
  },
  {
   "cell_type": "markdown",
   "metadata": {},
   "source": [
    "## 2.ファイルの読み込み"
   ]
  },
  {
   "cell_type": "code",
   "execution_count": 5,
   "metadata": {},
   "outputs": [],
   "source": [
    "sales_train = pd.read_csv('data/sales_train.csv')\n",
    "items = pd.read_csv('data/items.csv')\n",
    "shops = pd.read_csv('data/shops.csv')\n",
    "item_categories = pd.read_csv('data/item_categories.csv')"
   ]
  },
  {
   "cell_type": "markdown",
   "metadata": {},
   "source": [
    "## 3.データの確認"
   ]
  },
  {
   "cell_type": "markdown",
   "metadata": {},
   "source": [
    "### 購入履歴データ"
   ]
  },
  {
   "cell_type": "code",
   "execution_count": 17,
   "metadata": {},
   "outputs": [
    {
     "data": {
      "text/html": [
       "<div>\n",
       "<style scoped>\n",
       "    .dataframe tbody tr th:only-of-type {\n",
       "        vertical-align: middle;\n",
       "    }\n",
       "\n",
       "    .dataframe tbody tr th {\n",
       "        vertical-align: top;\n",
       "    }\n",
       "\n",
       "    .dataframe thead th {\n",
       "        text-align: right;\n",
       "    }\n",
       "</style>\n",
       "<table border=\"1\" class=\"dataframe\">\n",
       "  <thead>\n",
       "    <tr style=\"text-align: right;\">\n",
       "      <th></th>\n",
       "      <th>date</th>\n",
       "      <th>date_block_num</th>\n",
       "      <th>shop_id</th>\n",
       "      <th>item_id</th>\n",
       "      <th>item_price</th>\n",
       "      <th>item_cnt_day</th>\n",
       "    </tr>\n",
       "  </thead>\n",
       "  <tbody>\n",
       "    <tr>\n",
       "      <th>0</th>\n",
       "      <td>02.01.2013</td>\n",
       "      <td>0</td>\n",
       "      <td>59</td>\n",
       "      <td>22154</td>\n",
       "      <td>999.00</td>\n",
       "      <td>1.0</td>\n",
       "    </tr>\n",
       "    <tr>\n",
       "      <th>1</th>\n",
       "      <td>03.01.2013</td>\n",
       "      <td>0</td>\n",
       "      <td>25</td>\n",
       "      <td>2552</td>\n",
       "      <td>899.00</td>\n",
       "      <td>1.0</td>\n",
       "    </tr>\n",
       "    <tr>\n",
       "      <th>2</th>\n",
       "      <td>05.01.2013</td>\n",
       "      <td>0</td>\n",
       "      <td>25</td>\n",
       "      <td>2552</td>\n",
       "      <td>899.00</td>\n",
       "      <td>-1.0</td>\n",
       "    </tr>\n",
       "    <tr>\n",
       "      <th>3</th>\n",
       "      <td>06.01.2013</td>\n",
       "      <td>0</td>\n",
       "      <td>25</td>\n",
       "      <td>2554</td>\n",
       "      <td>1709.05</td>\n",
       "      <td>1.0</td>\n",
       "    </tr>\n",
       "    <tr>\n",
       "      <th>4</th>\n",
       "      <td>15.01.2013</td>\n",
       "      <td>0</td>\n",
       "      <td>25</td>\n",
       "      <td>2555</td>\n",
       "      <td>1099.00</td>\n",
       "      <td>1.0</td>\n",
       "    </tr>\n",
       "  </tbody>\n",
       "</table>\n",
       "</div>"
      ],
      "text/plain": [
       "         date  date_block_num  shop_id  item_id  item_price  item_cnt_day\n",
       "0  02.01.2013               0       59    22154      999.00           1.0\n",
       "1  03.01.2013               0       25     2552      899.00           1.0\n",
       "2  05.01.2013               0       25     2552      899.00          -1.0\n",
       "3  06.01.2013               0       25     2554     1709.05           1.0\n",
       "4  15.01.2013               0       25     2555     1099.00           1.0"
      ]
     },
     "execution_count": 17,
     "metadata": {},
     "output_type": "execute_result"
    }
   ],
   "source": [
    "sales_train.head()"
   ]
  },
  {
   "cell_type": "code",
   "execution_count": 22,
   "metadata": {},
   "outputs": [
    {
     "data": {
      "text/plain": [
       "date              False\n",
       "date_block_num    False\n",
       "shop_id           False\n",
       "item_id           False\n",
       "item_price        False\n",
       "item_cnt_day      False\n",
       "dtype: bool"
      ]
     },
     "execution_count": 22,
     "metadata": {},
     "output_type": "execute_result"
    }
   ],
   "source": [
    "sales_train.isnull().any()"
   ]
  },
  {
   "cell_type": "code",
   "execution_count": 16,
   "metadata": {},
   "outputs": [
    {
     "name": "stdout",
     "output_type": "stream",
     "text": [
      "<class 'pandas.core.frame.DataFrame'>\n",
      "RangeIndex: 2935849 entries, 0 to 2935848\n",
      "Data columns (total 6 columns):\n",
      "date              object\n",
      "date_block_num    int64\n",
      "shop_id           int64\n",
      "item_id           int64\n",
      "item_price        float64\n",
      "item_cnt_day      float64\n",
      "dtypes: float64(2), int64(3), object(1)\n",
      "memory usage: 134.4+ MB\n"
     ]
    }
   ],
   "source": [
    "sales_train.info()"
   ]
  },
  {
   "cell_type": "markdown",
   "metadata": {},
   "source": [
    "### 商品データ"
   ]
  },
  {
   "cell_type": "code",
   "execution_count": 18,
   "metadata": {},
   "outputs": [
    {
     "data": {
      "text/html": [
       "<div>\n",
       "<style scoped>\n",
       "    .dataframe tbody tr th:only-of-type {\n",
       "        vertical-align: middle;\n",
       "    }\n",
       "\n",
       "    .dataframe tbody tr th {\n",
       "        vertical-align: top;\n",
       "    }\n",
       "\n",
       "    .dataframe thead th {\n",
       "        text-align: right;\n",
       "    }\n",
       "</style>\n",
       "<table border=\"1\" class=\"dataframe\">\n",
       "  <thead>\n",
       "    <tr style=\"text-align: right;\">\n",
       "      <th></th>\n",
       "      <th>item_name</th>\n",
       "      <th>item_id</th>\n",
       "      <th>item_category_id</th>\n",
       "    </tr>\n",
       "  </thead>\n",
       "  <tbody>\n",
       "    <tr>\n",
       "      <th>0</th>\n",
       "      <td>! ВО ВЛАСТИ НАВАЖДЕНИЯ (ПЛАСТ.)         D</td>\n",
       "      <td>0</td>\n",
       "      <td>40</td>\n",
       "    </tr>\n",
       "    <tr>\n",
       "      <th>1</th>\n",
       "      <td>!ABBYY FineReader 12 Professional Edition Full...</td>\n",
       "      <td>1</td>\n",
       "      <td>76</td>\n",
       "    </tr>\n",
       "    <tr>\n",
       "      <th>2</th>\n",
       "      <td>***В ЛУЧАХ СЛАВЫ   (UNV)                    D</td>\n",
       "      <td>2</td>\n",
       "      <td>40</td>\n",
       "    </tr>\n",
       "    <tr>\n",
       "      <th>3</th>\n",
       "      <td>***ГОЛУБАЯ ВОЛНА  (Univ)                      D</td>\n",
       "      <td>3</td>\n",
       "      <td>40</td>\n",
       "    </tr>\n",
       "    <tr>\n",
       "      <th>4</th>\n",
       "      <td>***КОРОБКА (СТЕКЛО)                       D</td>\n",
       "      <td>4</td>\n",
       "      <td>40</td>\n",
       "    </tr>\n",
       "  </tbody>\n",
       "</table>\n",
       "</div>"
      ],
      "text/plain": [
       "                                           item_name  item_id  \\\n",
       "0          ! ВО ВЛАСТИ НАВАЖДЕНИЯ (ПЛАСТ.)         D        0   \n",
       "1  !ABBYY FineReader 12 Professional Edition Full...        1   \n",
       "2      ***В ЛУЧАХ СЛАВЫ   (UNV)                    D        2   \n",
       "3    ***ГОЛУБАЯ ВОЛНА  (Univ)                      D        3   \n",
       "4        ***КОРОБКА (СТЕКЛО)                       D        4   \n",
       "\n",
       "   item_category_id  \n",
       "0                40  \n",
       "1                76  \n",
       "2                40  \n",
       "3                40  \n",
       "4                40  "
      ]
     },
     "execution_count": 18,
     "metadata": {},
     "output_type": "execute_result"
    }
   ],
   "source": [
    "items.head()"
   ]
  },
  {
   "cell_type": "code",
   "execution_count": 26,
   "metadata": {},
   "outputs": [
    {
     "data": {
      "text/plain": [
       "item_name           False\n",
       "item_id             False\n",
       "item_category_id    False\n",
       "dtype: bool"
      ]
     },
     "execution_count": 26,
     "metadata": {},
     "output_type": "execute_result"
    }
   ],
   "source": [
    "# 欠損値確認\n",
    "items.isnull().any()"
   ]
  },
  {
   "cell_type": "code",
   "execution_count": 12,
   "metadata": {
    "scrolled": true
   },
   "outputs": [
    {
     "name": "stdout",
     "output_type": "stream",
     "text": [
      "<class 'pandas.core.frame.DataFrame'>\n",
      "RangeIndex: 22170 entries, 0 to 22169\n",
      "Data columns (total 3 columns):\n",
      "item_name           22170 non-null object\n",
      "item_id             22170 non-null int64\n",
      "item_category_id    22170 non-null int64\n",
      "dtypes: int64(2), object(1)\n",
      "memory usage: 519.7+ KB\n"
     ]
    }
   ],
   "source": [
    "items.info()"
   ]
  },
  {
   "cell_type": "markdown",
   "metadata": {},
   "source": [
    "### 店舗データ"
   ]
  },
  {
   "cell_type": "code",
   "execution_count": 19,
   "metadata": {},
   "outputs": [
    {
     "data": {
      "text/html": [
       "<div>\n",
       "<style scoped>\n",
       "    .dataframe tbody tr th:only-of-type {\n",
       "        vertical-align: middle;\n",
       "    }\n",
       "\n",
       "    .dataframe tbody tr th {\n",
       "        vertical-align: top;\n",
       "    }\n",
       "\n",
       "    .dataframe thead th {\n",
       "        text-align: right;\n",
       "    }\n",
       "</style>\n",
       "<table border=\"1\" class=\"dataframe\">\n",
       "  <thead>\n",
       "    <tr style=\"text-align: right;\">\n",
       "      <th></th>\n",
       "      <th>shop_name</th>\n",
       "      <th>shop_id</th>\n",
       "    </tr>\n",
       "  </thead>\n",
       "  <tbody>\n",
       "    <tr>\n",
       "      <th>0</th>\n",
       "      <td>!Якутск Орджоникидзе, 56 фран</td>\n",
       "      <td>0</td>\n",
       "    </tr>\n",
       "    <tr>\n",
       "      <th>1</th>\n",
       "      <td>!Якутск ТЦ \"Центральный\" фран</td>\n",
       "      <td>1</td>\n",
       "    </tr>\n",
       "    <tr>\n",
       "      <th>2</th>\n",
       "      <td>Адыгея ТЦ \"Мега\"</td>\n",
       "      <td>2</td>\n",
       "    </tr>\n",
       "    <tr>\n",
       "      <th>3</th>\n",
       "      <td>Балашиха ТРК \"Октябрь-Киномир\"</td>\n",
       "      <td>3</td>\n",
       "    </tr>\n",
       "    <tr>\n",
       "      <th>4</th>\n",
       "      <td>Волжский ТЦ \"Волга Молл\"</td>\n",
       "      <td>4</td>\n",
       "    </tr>\n",
       "  </tbody>\n",
       "</table>\n",
       "</div>"
      ],
      "text/plain": [
       "                        shop_name  shop_id\n",
       "0   !Якутск Орджоникидзе, 56 фран        0\n",
       "1   !Якутск ТЦ \"Центральный\" фран        1\n",
       "2                Адыгея ТЦ \"Мега\"        2\n",
       "3  Балашиха ТРК \"Октябрь-Киномир\"        3\n",
       "4        Волжский ТЦ \"Волга Молл\"        4"
      ]
     },
     "execution_count": 19,
     "metadata": {},
     "output_type": "execute_result"
    }
   ],
   "source": [
    "shops.head()"
   ]
  },
  {
   "cell_type": "code",
   "execution_count": 24,
   "metadata": {},
   "outputs": [
    {
     "data": {
      "text/plain": [
       "shop_name    False\n",
       "shop_id      False\n",
       "dtype: bool"
      ]
     },
     "execution_count": 24,
     "metadata": {},
     "output_type": "execute_result"
    }
   ],
   "source": [
    "# 欠損値確認\n",
    "shops.isnull().any()"
   ]
  },
  {
   "cell_type": "code",
   "execution_count": 13,
   "metadata": {
    "scrolled": true
   },
   "outputs": [
    {
     "name": "stdout",
     "output_type": "stream",
     "text": [
      "<class 'pandas.core.frame.DataFrame'>\n",
      "RangeIndex: 60 entries, 0 to 59\n",
      "Data columns (total 2 columns):\n",
      "shop_name    60 non-null object\n",
      "shop_id      60 non-null int64\n",
      "dtypes: int64(1), object(1)\n",
      "memory usage: 1.0+ KB\n"
     ]
    }
   ],
   "source": [
    "shops.info()"
   ]
  },
  {
   "cell_type": "markdown",
   "metadata": {},
   "source": [
    "### 商品カテゴリ"
   ]
  },
  {
   "cell_type": "code",
   "execution_count": 20,
   "metadata": {},
   "outputs": [
    {
     "data": {
      "text/html": [
       "<div>\n",
       "<style scoped>\n",
       "    .dataframe tbody tr th:only-of-type {\n",
       "        vertical-align: middle;\n",
       "    }\n",
       "\n",
       "    .dataframe tbody tr th {\n",
       "        vertical-align: top;\n",
       "    }\n",
       "\n",
       "    .dataframe thead th {\n",
       "        text-align: right;\n",
       "    }\n",
       "</style>\n",
       "<table border=\"1\" class=\"dataframe\">\n",
       "  <thead>\n",
       "    <tr style=\"text-align: right;\">\n",
       "      <th></th>\n",
       "      <th>item_category_name</th>\n",
       "      <th>item_category_id</th>\n",
       "    </tr>\n",
       "  </thead>\n",
       "  <tbody>\n",
       "    <tr>\n",
       "      <th>0</th>\n",
       "      <td>PC - Гарнитуры/Наушники</td>\n",
       "      <td>0</td>\n",
       "    </tr>\n",
       "    <tr>\n",
       "      <th>1</th>\n",
       "      <td>Аксессуары - PS2</td>\n",
       "      <td>1</td>\n",
       "    </tr>\n",
       "    <tr>\n",
       "      <th>2</th>\n",
       "      <td>Аксессуары - PS3</td>\n",
       "      <td>2</td>\n",
       "    </tr>\n",
       "    <tr>\n",
       "      <th>3</th>\n",
       "      <td>Аксессуары - PS4</td>\n",
       "      <td>3</td>\n",
       "    </tr>\n",
       "    <tr>\n",
       "      <th>4</th>\n",
       "      <td>Аксессуары - PSP</td>\n",
       "      <td>4</td>\n",
       "    </tr>\n",
       "  </tbody>\n",
       "</table>\n",
       "</div>"
      ],
      "text/plain": [
       "        item_category_name  item_category_id\n",
       "0  PC - Гарнитуры/Наушники                 0\n",
       "1         Аксессуары - PS2                 1\n",
       "2         Аксессуары - PS3                 2\n",
       "3         Аксессуары - PS4                 3\n",
       "4         Аксессуары - PSP                 4"
      ]
     },
     "execution_count": 20,
     "metadata": {},
     "output_type": "execute_result"
    }
   ],
   "source": [
    "item_categories.head()"
   ]
  },
  {
   "cell_type": "code",
   "execution_count": 25,
   "metadata": {},
   "outputs": [
    {
     "data": {
      "text/plain": [
       "item_category_name    True\n",
       "item_category_id      True\n",
       "dtype: bool"
      ]
     },
     "execution_count": 25,
     "metadata": {},
     "output_type": "execute_result"
    }
   ],
   "source": [
    "# 欠損値確認\n",
    "item_categories.any()"
   ]
  },
  {
   "cell_type": "code",
   "execution_count": 14,
   "metadata": {
    "scrolled": true
   },
   "outputs": [
    {
     "name": "stdout",
     "output_type": "stream",
     "text": [
      "<class 'pandas.core.frame.DataFrame'>\n",
      "RangeIndex: 84 entries, 0 to 83\n",
      "Data columns (total 2 columns):\n",
      "item_category_name    84 non-null object\n",
      "item_category_id      84 non-null int64\n",
      "dtypes: int64(1), object(1)\n",
      "memory usage: 1.4+ KB\n"
     ]
    }
   ],
   "source": [
    "item_categories.info()"
   ]
  },
  {
   "cell_type": "markdown",
   "metadata": {},
   "source": [
    "## 4.特徴生成"
   ]
  },
  {
   "cell_type": "markdown",
   "metadata": {},
   "source": [
    "### 商品カテゴリを大カテゴリ・小カテゴリに分割、生データだとロシア語なので日本語に後ほど翻訳"
   ]
  },
  {
   "cell_type": "code",
   "execution_count": 72,
   "metadata": {},
   "outputs": [],
   "source": [
    "# ハイフンで区切る\n",
    "item_categories['split'] = item_categories['item_category_name'].str.split('-')\n",
    "# 先頭の要素を大カテゴリとして取得\n",
    "item_categories['type'] = item_categories['split'].map(lambda x: x[0].strip())\n",
    "# 二つ目の要素を小カテゴリとして取得。もしなかったらNANとして取得\n",
    "item_categories['subtype'] = item_categories['split'].map(lambda x: x[1].strip() if len(x) > 1 else x[0].strip())\n"
   ]
  },
  {
   "cell_type": "markdown",
   "metadata": {},
   "source": [
    "### 店舗情報を分割し、先頭の要素を取り出す"
   ]
  },
  {
   "cell_type": "code",
   "execution_count": 73,
   "metadata": {},
   "outputs": [],
   "source": [
    "# スペース区切りで名前が分かれているので、スペースで分割する\n",
    "shops['city'] = shops['shop_name'].str.split(' ').map(lambda x: x[0])"
   ]
  },
  {
   "cell_type": "markdown",
   "metadata": {},
   "source": [
    "### 購入履歴の数と商品価格から売り上げを算出"
   ]
  },
  {
   "cell_type": "code",
   "execution_count": 74,
   "metadata": {},
   "outputs": [],
   "source": [
    "sales_train['revenue'] = sales_train['item_price'] *  sales_train['item_cnt_day']"
   ]
  },
  {
   "cell_type": "markdown",
   "metadata": {},
   "source": [
    "### 年・月・日"
   ]
  },
  {
   "cell_type": "code",
   "execution_count": 75,
   "metadata": {},
   "outputs": [],
   "source": [
    "sales_train['date'] = pd.to_datetime(sales_train['date'], format='%d.%m.%Y') "
   ]
  },
  {
   "cell_type": "code",
   "execution_count": 76,
   "metadata": {},
   "outputs": [],
   "source": [
    "# year\n",
    "sales_train['year'] = sales_train['date'].dt.year\n",
    "\n",
    "# month\n",
    "sales_train['month'] = sales_train['date'].dt.month\n",
    "\n",
    "# day\n",
    "sales_train['day'] = sales_train['date'].dt.day"
   ]
  },
  {
   "cell_type": "markdown",
   "metadata": {},
   "source": [
    "## 5.データの結合"
   ]
  },
  {
   "cell_type": "code",
   "execution_count": 77,
   "metadata": {},
   "outputs": [],
   "source": [
    "matrix = pd.merge(sales_train, shops, on='shop_id')"
   ]
  },
  {
   "cell_type": "code",
   "execution_count": 78,
   "metadata": {},
   "outputs": [],
   "source": [
    "items = pd.merge(items, item_categories, on='item_category_id')"
   ]
  },
  {
   "cell_type": "code",
   "execution_count": 79,
   "metadata": {},
   "outputs": [],
   "source": [
    "matrix = pd.merge(matrix, items, on='item_id')"
   ]
  },
  {
   "cell_type": "code",
   "execution_count": 81,
   "metadata": {
    "scrolled": true
   },
   "outputs": [],
   "source": [
    "# 不要な列は削除\n",
    "matrix.drop(columns=\"split\",inplace=True)"
   ]
  },
  {
   "cell_type": "markdown",
   "metadata": {},
   "source": [
    "## 6.集計"
   ]
  },
  {
   "cell_type": "code",
   "execution_count": 91,
   "metadata": {},
   "outputs": [
    {
     "data": {
      "text/html": [
       "<div>\n",
       "<style scoped>\n",
       "    .dataframe tbody tr th:only-of-type {\n",
       "        vertical-align: middle;\n",
       "    }\n",
       "\n",
       "    .dataframe tbody tr th {\n",
       "        vertical-align: top;\n",
       "    }\n",
       "\n",
       "    .dataframe thead th {\n",
       "        text-align: right;\n",
       "    }\n",
       "</style>\n",
       "<table border=\"1\" class=\"dataframe\">\n",
       "  <thead>\n",
       "    <tr style=\"text-align: right;\">\n",
       "      <th></th>\n",
       "      <th>date</th>\n",
       "      <th>date_block_num</th>\n",
       "      <th>shop_id</th>\n",
       "      <th>item_id</th>\n",
       "      <th>item_price</th>\n",
       "      <th>item_cnt_day</th>\n",
       "      <th>revenue</th>\n",
       "      <th>year</th>\n",
       "      <th>month</th>\n",
       "      <th>day</th>\n",
       "      <th>shop_name</th>\n",
       "      <th>city</th>\n",
       "      <th>item_name</th>\n",
       "      <th>item_category_id</th>\n",
       "      <th>item_category_name</th>\n",
       "      <th>type</th>\n",
       "      <th>subtype</th>\n",
       "    </tr>\n",
       "  </thead>\n",
       "  <tbody>\n",
       "    <tr>\n",
       "      <th>0</th>\n",
       "      <td>2013-01-02</td>\n",
       "      <td>0</td>\n",
       "      <td>59</td>\n",
       "      <td>22154</td>\n",
       "      <td>999.0</td>\n",
       "      <td>1.0</td>\n",
       "      <td>999.0</td>\n",
       "      <td>2013</td>\n",
       "      <td>1</td>\n",
       "      <td>2</td>\n",
       "      <td>Ярославль ТЦ \"Альтаир\"</td>\n",
       "      <td>Ярославль</td>\n",
       "      <td>ЯВЛЕНИЕ 2012 (BD)</td>\n",
       "      <td>37</td>\n",
       "      <td>Кино - Blu-Ray</td>\n",
       "      <td>Кино</td>\n",
       "      <td>Blu</td>\n",
       "    </tr>\n",
       "    <tr>\n",
       "      <th>1</th>\n",
       "      <td>2013-01-02</td>\n",
       "      <td>0</td>\n",
       "      <td>25</td>\n",
       "      <td>22154</td>\n",
       "      <td>999.0</td>\n",
       "      <td>1.0</td>\n",
       "      <td>999.0</td>\n",
       "      <td>2013</td>\n",
       "      <td>1</td>\n",
       "      <td>2</td>\n",
       "      <td>Москва ТРК \"Атриум\"</td>\n",
       "      <td>Москва</td>\n",
       "      <td>ЯВЛЕНИЕ 2012 (BD)</td>\n",
       "      <td>37</td>\n",
       "      <td>Кино - Blu-Ray</td>\n",
       "      <td>Кино</td>\n",
       "      <td>Blu</td>\n",
       "    </tr>\n",
       "    <tr>\n",
       "      <th>2</th>\n",
       "      <td>2013-01-03</td>\n",
       "      <td>0</td>\n",
       "      <td>25</td>\n",
       "      <td>22154</td>\n",
       "      <td>999.0</td>\n",
       "      <td>1.0</td>\n",
       "      <td>999.0</td>\n",
       "      <td>2013</td>\n",
       "      <td>1</td>\n",
       "      <td>3</td>\n",
       "      <td>Москва ТРК \"Атриум\"</td>\n",
       "      <td>Москва</td>\n",
       "      <td>ЯВЛЕНИЕ 2012 (BD)</td>\n",
       "      <td>37</td>\n",
       "      <td>Кино - Blu-Ray</td>\n",
       "      <td>Кино</td>\n",
       "      <td>Blu</td>\n",
       "    </tr>\n",
       "    <tr>\n",
       "      <th>3</th>\n",
       "      <td>2013-01-20</td>\n",
       "      <td>0</td>\n",
       "      <td>25</td>\n",
       "      <td>22154</td>\n",
       "      <td>999.0</td>\n",
       "      <td>1.0</td>\n",
       "      <td>999.0</td>\n",
       "      <td>2013</td>\n",
       "      <td>1</td>\n",
       "      <td>20</td>\n",
       "      <td>Москва ТРК \"Атриум\"</td>\n",
       "      <td>Москва</td>\n",
       "      <td>ЯВЛЕНИЕ 2012 (BD)</td>\n",
       "      <td>37</td>\n",
       "      <td>Кино - Blu-Ray</td>\n",
       "      <td>Кино</td>\n",
       "      <td>Blu</td>\n",
       "    </tr>\n",
       "    <tr>\n",
       "      <th>4</th>\n",
       "      <td>2013-01-23</td>\n",
       "      <td>0</td>\n",
       "      <td>25</td>\n",
       "      <td>22154</td>\n",
       "      <td>999.0</td>\n",
       "      <td>1.0</td>\n",
       "      <td>999.0</td>\n",
       "      <td>2013</td>\n",
       "      <td>1</td>\n",
       "      <td>23</td>\n",
       "      <td>Москва ТРК \"Атриум\"</td>\n",
       "      <td>Москва</td>\n",
       "      <td>ЯВЛЕНИЕ 2012 (BD)</td>\n",
       "      <td>37</td>\n",
       "      <td>Кино - Blu-Ray</td>\n",
       "      <td>Кино</td>\n",
       "      <td>Blu</td>\n",
       "    </tr>\n",
       "  </tbody>\n",
       "</table>\n",
       "</div>"
      ],
      "text/plain": [
       "        date  date_block_num  shop_id  item_id  item_price  item_cnt_day  \\\n",
       "0 2013-01-02               0       59    22154       999.0           1.0   \n",
       "1 2013-01-02               0       25    22154       999.0           1.0   \n",
       "2 2013-01-03               0       25    22154       999.0           1.0   \n",
       "3 2013-01-20               0       25    22154       999.0           1.0   \n",
       "4 2013-01-23               0       25    22154       999.0           1.0   \n",
       "\n",
       "   revenue  year  month  day               shop_name       city  \\\n",
       "0    999.0  2013      1    2  Ярославль ТЦ \"Альтаир\"  Ярославль   \n",
       "1    999.0  2013      1    2     Москва ТРК \"Атриум\"     Москва   \n",
       "2    999.0  2013      1    3     Москва ТРК \"Атриум\"     Москва   \n",
       "3    999.0  2013      1   20     Москва ТРК \"Атриум\"     Москва   \n",
       "4    999.0  2013      1   23     Москва ТРК \"Атриум\"     Москва   \n",
       "\n",
       "           item_name  item_category_id item_category_name  type subtype  \n",
       "0  ЯВЛЕНИЕ 2012 (BD)                37     Кино - Blu-Ray  Кино     Blu  \n",
       "1  ЯВЛЕНИЕ 2012 (BD)                37     Кино - Blu-Ray  Кино     Blu  \n",
       "2  ЯВЛЕНИЕ 2012 (BD)                37     Кино - Blu-Ray  Кино     Blu  \n",
       "3  ЯВЛЕНИЕ 2012 (BD)                37     Кино - Blu-Ray  Кино     Blu  \n",
       "4  ЯВЛЕНИЕ 2012 (BD)                37     Кино - Blu-Ray  Кино     Blu  "
      ]
     },
     "execution_count": 91,
     "metadata": {},
     "output_type": "execute_result"
    }
   ],
   "source": [
    "matrix.head()"
   ]
  },
  {
   "cell_type": "code",
   "execution_count": 112,
   "metadata": {},
   "outputs": [],
   "source": [
    "# 収益\n",
    "\n",
    "## 年別\n",
    "year_rev = matrix.groupby(\"year\").agg({'revenue':'sum'}).reset_index()\n",
    "\n",
    "## 月別\n",
    "month_rev = matrix.groupby(\"month\").agg({'revenue':'sum'}).reset_index()\n",
    "\n",
    "## 日別\n",
    "day_rev = matrix.groupby(\"day\").agg({'revenue':'sum'}).reset_index()\n",
    "\n",
    "## 日付ブロック（ 2012年1月が0）\n",
    "date_rev = matrix.groupby(\"date_block_num\").agg({'revenue':'sum'}).reset_index()\n",
    "\n",
    "## カテゴリ・地域\n",
    "type_city_rev = matrix.groupby([\"type\", \"city\"]).agg({'revenue':'sum'}).reset_index()\n",
    "\n",
    "## カテゴリ・日付ブロック\n",
    "date_type_rev = matrix.groupby([\"type\", \"date_block_num\"]).agg({'revenue':'sum'}).reset_index()\n",
    "\n",
    "## 地域別\n",
    "city_rev = matrix.groupby([\"city\"]).agg({'revenue':'sum'}).reset_index()\n",
    "\n",
    "#　販売価格\n",
    "\n",
    "## 年別\n",
    "year_price = matrix.groupby([\"year\"]).agg({'item_price':'mean'}).reset_index()\n",
    "\n",
    "## 月別\n",
    "month_price = matrix.groupby([\"month\"]).agg({'item_price':'mean'}).reset_index()\n",
    "\n",
    "## 日別\n",
    "day_price = matrix.groupby([\"day\"]).agg({'item_price':'mean'}).reset_index()\n",
    "\n",
    "## 日付ブロック（ 2012年1月が0）\n",
    "date_price = matrix.groupby([\"date_block_num\"]).agg({'item_price':'mean'}).reset_index()\n",
    "\n",
    "## カテゴリ・地域\n",
    "type_city_price = matrix.groupby([\"type\", \"city\"]).agg({'item_price':'mean'}).reset_index()\n",
    "\n",
    "## カテゴリ・日付ブロック\n",
    "date_type_price = matrix.groupby([\"date_block_num\",\"type\"]).agg({'item_price':'mean'}).reset_index()\n",
    "\n",
    "## 地域別\n",
    "city_price = matrix.groupby([\"city\"]).agg({'item_price':'mean'}).reset_index()\n",
    "\n",
    "# 　販売数\n",
    "\n",
    "## 年別\n",
    "year_cnt = matrix.groupby([\"year\"]).agg({'item_cnt_day':'sum'}).reset_index()\n",
    "\n",
    "# 月別\n",
    "month_cnt = matrix.groupby([\"month\"]).agg({'item_cnt_day':'sum'}).reset_index()\n",
    "\n",
    "# 月別\n",
    "day_cnt = matrix.groupby([\"day\"]).agg({'item_cnt_day':'sum'}).reset_index()\n",
    "\n",
    "# 日付ブロック別\n",
    "date_cnt = matrix.groupby([\"date_block_num\"]).agg({'item_cnt_day':'sum'}).reset_index()\n",
    "\n",
    "## カテゴリ・地域\n",
    "type_city_cnt = matrix.groupby([\"type\", \"city\"]).agg({'item_cnt_day':'sum'}).reset_index()\n",
    "\n",
    "# カテゴリ・日付ブロック\n",
    "date_type_cnt = matrix.groupby([\"type\",\"date_block_num\"]).agg({'item_cnt_day':'sum'}).reset_index()\n",
    "\n",
    "# 地域別\n",
    "city_cnt = matrix.groupby([\"city\"]).agg({'item_cnt_day':'sum'}).reset_index()"
   ]
  },
  {
   "cell_type": "markdown",
   "metadata": {},
   "source": [
    "## オンラインストアの商品の平均価格とそれ以外の店舗など平均価格と比較する"
   ]
  },
  {
   "cell_type": "code",
   "execution_count": 128,
   "metadata": {},
   "outputs": [
    {
     "data": {
      "text/html": [
       "<div>\n",
       "<style scoped>\n",
       "    .dataframe tbody tr th:only-of-type {\n",
       "        vertical-align: middle;\n",
       "    }\n",
       "\n",
       "    .dataframe tbody tr th {\n",
       "        vertical-align: top;\n",
       "    }\n",
       "\n",
       "    .dataframe thead th {\n",
       "        text-align: right;\n",
       "    }\n",
       "</style>\n",
       "<table border=\"1\" class=\"dataframe\">\n",
       "  <thead>\n",
       "    <tr style=\"text-align: right;\">\n",
       "      <th></th>\n",
       "      <th>type</th>\n",
       "      <th>item_price_x</th>\n",
       "      <th>item_price_y</th>\n",
       "      <th>diff</th>\n",
       "    </tr>\n",
       "  </thead>\n",
       "  <tbody>\n",
       "    <tr>\n",
       "      <th>0</th>\n",
       "      <td>Аксессуары</td>\n",
       "      <td>1958.395179</td>\n",
       "      <td>2253.038624</td>\n",
       "      <td>-294.643445</td>\n",
       "    </tr>\n",
       "    <tr>\n",
       "      <th>1</th>\n",
       "      <td>Билеты (Цифра)</td>\n",
       "      <td>1337.669881</td>\n",
       "      <td>1463.429112</td>\n",
       "      <td>-125.759231</td>\n",
       "    </tr>\n",
       "    <tr>\n",
       "      <th>2</th>\n",
       "      <td>Игровые консоли</td>\n",
       "      <td>15468.061988</td>\n",
       "      <td>15843.011723</td>\n",
       "      <td>-374.949735</td>\n",
       "    </tr>\n",
       "    <tr>\n",
       "      <th>3</th>\n",
       "      <td>Игры</td>\n",
       "      <td>1624.669307</td>\n",
       "      <td>2012.996794</td>\n",
       "      <td>-388.327487</td>\n",
       "    </tr>\n",
       "    <tr>\n",
       "      <th>4</th>\n",
       "      <td>Игры PC</td>\n",
       "      <td>590.222672</td>\n",
       "      <td>1060.789373</td>\n",
       "      <td>-470.566701</td>\n",
       "    </tr>\n",
       "    <tr>\n",
       "      <th>5</th>\n",
       "      <td>Карты оплаты</td>\n",
       "      <td>1461.533291</td>\n",
       "      <td>1663.539734</td>\n",
       "      <td>-202.006443</td>\n",
       "    </tr>\n",
       "    <tr>\n",
       "      <th>6</th>\n",
       "      <td>Кино</td>\n",
       "      <td>357.601154</td>\n",
       "      <td>517.764042</td>\n",
       "      <td>-160.162887</td>\n",
       "    </tr>\n",
       "    <tr>\n",
       "      <th>7</th>\n",
       "      <td>Книги</td>\n",
       "      <td>380.355466</td>\n",
       "      <td>514.797743</td>\n",
       "      <td>-134.442277</td>\n",
       "    </tr>\n",
       "    <tr>\n",
       "      <th>8</th>\n",
       "      <td>Музыка</td>\n",
       "      <td>361.330809</td>\n",
       "      <td>905.907049</td>\n",
       "      <td>-544.576240</td>\n",
       "    </tr>\n",
       "    <tr>\n",
       "      <th>9</th>\n",
       "      <td>Подарки</td>\n",
       "      <td>737.906058</td>\n",
       "      <td>1267.385539</td>\n",
       "      <td>-529.479481</td>\n",
       "    </tr>\n",
       "    <tr>\n",
       "      <th>10</th>\n",
       "      <td>Программы</td>\n",
       "      <td>1656.694405</td>\n",
       "      <td>3012.619230</td>\n",
       "      <td>-1355.924825</td>\n",
       "    </tr>\n",
       "    <tr>\n",
       "      <th>11</th>\n",
       "      <td>Служебные</td>\n",
       "      <td>1112.439758</td>\n",
       "      <td>1204.348933</td>\n",
       "      <td>-91.909175</td>\n",
       "    </tr>\n",
       "    <tr>\n",
       "      <th>12</th>\n",
       "      <td>Чистые носители (шпиль)</td>\n",
       "      <td>188.847607</td>\n",
       "      <td>350.000000</td>\n",
       "      <td>-161.152393</td>\n",
       "    </tr>\n",
       "    <tr>\n",
       "      <th>13</th>\n",
       "      <td>Чистые носители (штучные)</td>\n",
       "      <td>32.488865</td>\n",
       "      <td>21.000000</td>\n",
       "      <td>11.488865</td>\n",
       "    </tr>\n",
       "    <tr>\n",
       "      <th>14</th>\n",
       "      <td>Элементы питания</td>\n",
       "      <td>100.278782</td>\n",
       "      <td>108.000000</td>\n",
       "      <td>-7.721218</td>\n",
       "    </tr>\n",
       "  </tbody>\n",
       "</table>\n",
       "</div>"
      ],
      "text/plain": [
       "                         type  item_price_x  item_price_y         diff\n",
       "0                  Аксессуары   1958.395179   2253.038624  -294.643445\n",
       "1              Билеты (Цифра)   1337.669881   1463.429112  -125.759231\n",
       "2             Игровые консоли  15468.061988  15843.011723  -374.949735\n",
       "3                        Игры   1624.669307   2012.996794  -388.327487\n",
       "4                     Игры PC    590.222672   1060.789373  -470.566701\n",
       "5                Карты оплаты   1461.533291   1663.539734  -202.006443\n",
       "6                        Кино    357.601154    517.764042  -160.162887\n",
       "7                       Книги    380.355466    514.797743  -134.442277\n",
       "8                      Музыка    361.330809    905.907049  -544.576240\n",
       "9                     Подарки    737.906058   1267.385539  -529.479481\n",
       "10                  Программы   1656.694405   3012.619230 -1355.924825\n",
       "11                  Служебные   1112.439758   1204.348933   -91.909175\n",
       "12    Чистые носители (шпиль)    188.847607    350.000000  -161.152393\n",
       "13  Чистые носители (штучные)     32.488865     21.000000    11.488865\n",
       "14           Элементы питания    100.278782    108.000000    -7.721218"
      ]
     },
     "execution_count": 128,
     "metadata": {},
     "output_type": "execute_result"
    }
   ],
   "source": [
    "online = matrix[matrix[\"city\"] == \"Интернет-магазин\"]\n",
    "not_online = matrix[matrix[\"city\"] != \"Интернет-магазин\"]\n",
    "\n",
    "online_price_avg = online.groupby([\"type\"]).agg({'item_price':'mean'}).reset_index()\n",
    "not_online_avg = not_online.groupby([\"type\"]).agg({'item_price':'mean'}).reset_index()\n",
    "\n",
    "diff_avg = pd.merge(not_online_avg, online_price_avg, on=\"type\")\n",
    "\n",
    "diff_avg[\"diff\"] =  diff_avg[\"item_price_x\"] - diff_avg[\"item_price_y\"]"
   ]
  },
  {
   "cell_type": "markdown",
   "metadata": {},
   "source": [
    "## 7.出力"
   ]
  },
  {
   "cell_type": "code",
   "execution_count": 129,
   "metadata": {},
   "outputs": [],
   "source": [
    "excel_writer = pd.ExcelWriter('../data/result_to_excel_revise3.xlsx')\n",
    " \n",
    "# シート名を指定してデータフレームを書き出す\n",
    "# 価格\n",
    "year_rev.to_excel(excel_writer, 'year_rev')\n",
    "month_rev.to_excel(excel_writer, 'month_rev')\n",
    "day_rev.to_excel(excel_writer, 'day_rev')\n",
    "date_rev.to_excel(excel_writer, 'date_rev')\n",
    "type_city_rev.to_excel(excel_writer, 'type_city_rev')\n",
    "date_type_rev.to_excel(excel_writer, 'date_type_rev')\n",
    "city_rev.to_excel(excel_writer, 'city_rev')\n",
    "\n",
    "# 価格\n",
    "year_price.to_excel(excel_writer, 'year_price')\n",
    "month_price.to_excel(excel_writer, 'month_price')\n",
    "day_price.to_excel(excel_writer, 'day_price')\n",
    "date_price.to_excel(excel_writer, 'date_price')\n",
    "type_city_price.to_excel(excel_writer, 'type_city_price')\n",
    "date_type_price.to_excel(excel_writer, 'date_type_price')\n",
    "city_price.to_excel(excel_writer, 'city_price')\n",
    "\n",
    "# 販売数\n",
    "year_cnt.to_excel(excel_writer, 'year_cnt')\n",
    "month_cnt.to_excel(excel_writer, 'month_cnt')\n",
    "day_cnt.to_excel(excel_writer, 'day_cnt')\n",
    "date_cnt.to_excel(excel_writer, 'date_cnt')\n",
    "type_city_cnt.to_excel(excel_writer, 'type_city_cnt')\n",
    "date_type_cnt.to_excel(excel_writer, 'date_type_cnt')\n",
    "city_cnt.to_excel(excel_writer, 'city_cnt')\n",
    "\n",
    "# 価格比較\n",
    "diff_avg.to_excel(excel_writer, 'diff_avg')\n",
    "\n",
    "# 書き出した内容を保存する\n",
    "excel_writer.save()"
   ]
  },
  {
   "cell_type": "code",
   "execution_count": null,
   "metadata": {},
   "outputs": [],
   "source": []
  }
 ],
 "metadata": {
  "kernelspec": {
   "display_name": "Python 3",
   "language": "python",
   "name": "python3"
  },
  "language_info": {
   "codemirror_mode": {
    "name": "ipython",
    "version": 3
   },
   "file_extension": ".py",
   "mimetype": "text/x-python",
   "name": "python",
   "nbconvert_exporter": "python",
   "pygments_lexer": "ipython3",
   "version": "3.6.8"
  }
 },
 "nbformat": 4,
 "nbformat_minor": 2
}
